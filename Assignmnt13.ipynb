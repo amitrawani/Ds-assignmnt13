{
 "cells": [
  {
   "cell_type": "code",
   "execution_count": null,
   "id": "aaa22278-1e5b-440b-af9c-2df894746b75",
   "metadata": {},
   "outputs": [],
   "source": [
    "Q1. Explain why we have to use the Exception class while creating a Custom Exception.\n",
    "Note: Here Exception class refers to the base class for all the exceptions.\n",
    "\n",
    "Ans: When creating a custom exception in Python, it is recommended to inherit from the Exception class or any of its subclasses.\n",
    "Here are the reasons why it is beneficial to use the Exception class as the base class for custom exceptions:\n",
    "\n",
    "1.Consistency and Compatibility: Inheriting from the Exception class ensures that your custom exception follows the same structure \n",
    "and behavior as other built-in exceptions in Python. This consistency makes it easier for developers to understand and work with your custom exception \n",
    "as they can rely on familiar exception handling techniques.\n",
    "\n",
    "2.Exception Hierarchy: The Exception class is the base class for all exceptions in Python, forming a hierarchy of exception classes. By inheriting \n",
    "from the Exception class, your custom exception becomes part of this hierarchy. This allows you to categorize and organize exceptions based on their \n",
    "relationships, making it easier to handle and catch specific types of exceptions.\n",
    "\n",
    "3.Error Handling: In Python, exception handling is typically done using the try-except construct. By inheriting from the Exception class, \n",
    "your custom exception can be caught using a broad except block that handles exceptions of type Exception. This provides a convenient way \n",
    "to handle multiple custom exceptions in a single except block.\n",
    "\n",
    "4.Standard Exception Methods: The Exception class provides standard methods like __str__ and __repr__ for representing the exception as a string \n",
    "and for providing a formal representation, respectively. By inheriting from the Exception class, your custom exception inherits these methods, \n",
    "allowing you to customize the string representation and behavior of your exception.\n",
    "\n",
    "5.Compatibility with Exception Handling Constructs: Python provides various exception handling constructs like try-except,\n",
    "try-except-else, and try-finally. By using the Exception class as the base class for your custom exception, you ensure compatibility with\n",
    "these constructs, making it easier to handle your custom exception in different scenarios."
   ]
  },
  {
   "cell_type": "code",
   "execution_count": null,
   "id": "ed8ab3d9-7ab6-4ec5-b0a8-868102e98d97",
   "metadata": {},
   "outputs": [],
   "source": [
    "Q2. Write a python program to print Python Exception Hierarchy."
   ]
  },
  {
   "cell_type": "code",
   "execution_count": null,
   "id": "27c9b892-447f-4ff1-9afb-a78d36dadb38",
   "metadata": {},
   "outputs": [],
   "source": [
    "import builtins\n",
    "\n",
    "def print_exception_hierarchy(exception_class, indent=0):\n",
    "    print(' ' * indent + exception_class.__name__)\n",
    "    for subclass in exception_class.__subclasses__():\n",
    "        print_exception_hierarchy(subclass, indent + 4)\n",
    "\n",
    "print_exception_hierarchy(builtins.BaseException)\n"
   ]
  },
  {
   "cell_type": "code",
   "execution_count": null,
   "id": "eb976022-5034-4dd2-947b-f87320348376",
   "metadata": {},
   "outputs": [],
   "source": [
    "Q3. What errors are defined in the ArithmeticError class? Explain any two with an example.\n",
    "\n",
    "Ans: The ArithmeticError class in Python is the base class for all errors that occur during arithmetic calculations.\n",
    "Example:\n",
    "    1.ZeroDivisionError: This error is  occurs when attempting to divide a number by zero."
   ]
  },
  {
   "cell_type": "code",
   "execution_count": 2,
   "id": "27afe8ba-4ad4-4d38-8585-b30d2a09ddfb",
   "metadata": {},
   "outputs": [
    {
     "name": "stdout",
     "output_type": "stream",
     "text": [
      "Error: division by zero\n"
     ]
    }
   ],
   "source": [
    "try:\n",
    "    result = 10 / 0\n",
    "except ZeroDivisionError as e:\n",
    "    print(\"Error:\", e)\n"
   ]
  },
  {
   "cell_type": "code",
   "execution_count": null,
   "id": "db1e9f10-b58c-43eb-bee9-844fd501c00f",
   "metadata": {},
   "outputs": [],
   "source": [
    "2.OverflowError: This error occurs when the result of an arithmetic operation exceeds the maximum representable value.\n",
    "\n",
    "Example:"
   ]
  },
  {
   "cell_type": "code",
   "execution_count": 3,
   "id": "486de77a-05cb-420f-9a73-5b58b0a8439d",
   "metadata": {},
   "outputs": [],
   "source": [
    "import sys\n",
    "\n",
    "try:\n",
    "    result = sys.maxsize + 1\n",
    "except OverflowError as e:\n",
    "    print(\"Error:\", e)\n"
   ]
  },
  {
   "cell_type": "code",
   "execution_count": null,
   "id": "d3d75b8d-301c-4db0-a497-ab925ae069f9",
   "metadata": {},
   "outputs": [],
   "source": [
    "Q4. Why LookupError class is used? Explain with an example KeyError and IndexError.\n",
    "\n",
    "Ans: The LookupError class is the base class for errors that occur when a key or index is not found in a collection or sequence.\n",
    "It provides a common superclass for exceptions like KeyError and IndexError.\n",
    "\n",
    "KeyError: This error occurs when trying to access a key that does not exist in a dictionary."
   ]
  },
  {
   "cell_type": "code",
   "execution_count": 4,
   "id": "80f0b0d3-04b4-4a68-bb67-612f1a53aabe",
   "metadata": {},
   "outputs": [
    {
     "name": "stdout",
     "output_type": "stream",
     "text": [
      "Error: 'c'\n"
     ]
    }
   ],
   "source": [
    "# Example\n",
    "my_dict = {'a': 1, 'b': 2}\n",
    "try:\n",
    "    value = my_dict['c']\n",
    "except KeyError as e:\n",
    "    print(\"Error:\", e)\n"
   ]
  },
  {
   "cell_type": "code",
   "execution_count": null,
   "id": "f22ce124-2783-44d1-8f13-0bafee517337",
   "metadata": {},
   "outputs": [],
   "source": [
    "IndexError: This error occurs when trying to access an index that is out of range in a list or other sequence."
   ]
  },
  {
   "cell_type": "code",
   "execution_count": 5,
   "id": "b8643285-025a-4263-87f3-11fe807b56dd",
   "metadata": {},
   "outputs": [
    {
     "name": "stdout",
     "output_type": "stream",
     "text": [
      "Error: list index out of range\n"
     ]
    }
   ],
   "source": [
    "# Example\n",
    "my_list = [1, 2, 3]\n",
    "try:\n",
    "    value = my_list[3]\n",
    "except IndexError as e:\n",
    "    print(\"Error:\", e)\n"
   ]
  },
  {
   "cell_type": "code",
   "execution_count": null,
   "id": "a0097878-3305-45d4-bc77-829704c81645",
   "metadata": {},
   "outputs": [],
   "source": [
    "Q5. Explain ImportError. What is ModuleNotFoundError?\n",
    "Ans: ImportError: when there are issues with importing a module or a specific attribute from a module. \n",
    "It can occur if the module is not installed or if there is a problem with the module's code.\n",
    "\n",
    "ModuleNotFoundError: This is a subclass of ImportError and specifically indicates that the requested module could not be found. \n",
    "It was introduced in Python 3.6 to provide more precise information about the failure to import a module."
   ]
  },
  {
   "cell_type": "code",
   "execution_count": 6,
   "id": "7aa720b5-2999-46f3-b825-d83d1c6d75b3",
   "metadata": {},
   "outputs": [
    {
     "name": "stdout",
     "output_type": "stream",
     "text": [
      "Error: No module named 'non_existing_module'\n"
     ]
    }
   ],
   "source": [
    "# Example\n",
    "try:\n",
    "    import non_existing_module\n",
    "except ModuleNotFoundError as e:\n",
    "    print(\"Error:\", e)\n"
   ]
  },
  {
   "cell_type": "code",
   "execution_count": null,
   "id": "1ed93525-1db7-469d-9927-13a93669bef4",
   "metadata": {},
   "outputs": [],
   "source": [
    "Q6. List down some best practices for exception handling in python.\n",
    "Ans:  The best specific in catching exceptions are:\n",
    "    \n",
    "1.Be specific in catching exceptions: Catch specific exceptions rather than using a broad except statement. \n",
    "This helps in understanding and handling specific error conditions appropriately.\n",
    "\n",
    "2.Use finally for cleanup: Use the finally block to ensure that any cleanup operations, such as closing files or releasing \n",
    "resources, are always executed, regardless of whether an exception occurred or not.\n",
    "\n",
    "3.Avoid bare except: Avoid using a bare except statement without specifying the exception type. It can mask errors and \n",
    "make debugging more difficult. Catch only the exceptions you expect and handle them accordingly.\n",
    "\n",
    "4.Provide meaningful error messages: When raising or catching exceptions, provide meaningful error messages that help in \n",
    "understanding the cause and context of the error\n"
   ]
  }
 ],
 "metadata": {
  "kernelspec": {
   "display_name": "Python 3 (ipykernel)",
   "language": "python",
   "name": "python3"
  },
  "language_info": {
   "codemirror_mode": {
    "name": "ipython",
    "version": 3
   },
   "file_extension": ".py",
   "mimetype": "text/x-python",
   "name": "python",
   "nbconvert_exporter": "python",
   "pygments_lexer": "ipython3",
   "version": "3.10.8"
  }
 },
 "nbformat": 4,
 "nbformat_minor": 5
}
